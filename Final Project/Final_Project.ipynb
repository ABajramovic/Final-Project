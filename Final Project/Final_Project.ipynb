{
 "cells": [
  {
   "cell_type": "markdown",
   "metadata": {},
   "source": [
    "## Import Dependancies \n",
    "    We need to leverage pandas / matplotlib / Pandas for the Final Project"
   ]
  },
  {
   "cell_type": "code",
   "execution_count": 1,
   "metadata": {},
   "outputs": [],
   "source": [
    "%matplotlib inline\n",
    "import matplotlib.pyplot as plt\n",
    "import numpy as np\n",
    "import pandas as pd\n",
    "import sklearn"
   ]
  },
  {
   "cell_type": "markdown",
   "metadata": {},
   "source": [
    "## Bring in Data\n",
    "    We are leveraging data from Kaggle online and we looked for data that could contain linear regression relationships"
   ]
  },
  {
   "cell_type": "code",
   "execution_count": 2,
   "metadata": {},
   "outputs": [
    {
     "data": {
      "text/html": [
       "<div>\n",
       "<style scoped>\n",
       "    .dataframe tbody tr th:only-of-type {\n",
       "        vertical-align: middle;\n",
       "    }\n",
       "\n",
       "    .dataframe tbody tr th {\n",
       "        vertical-align: top;\n",
       "    }\n",
       "\n",
       "    .dataframe thead th {\n",
       "        text-align: right;\n",
       "    }\n",
       "</style>\n",
       "<table border=\"1\" class=\"dataframe\">\n",
       "  <thead>\n",
       "    <tr style=\"text-align: right;\">\n",
       "      <th></th>\n",
       "      <th>ages</th>\n",
       "      <th>list_price</th>\n",
       "      <th>num_reviews</th>\n",
       "      <th>piece_count</th>\n",
       "      <th>play_star_rating</th>\n",
       "      <th>prod_desc</th>\n",
       "      <th>prod_id</th>\n",
       "      <th>prod_long_desc</th>\n",
       "      <th>review_difficulty</th>\n",
       "      <th>set_name</th>\n",
       "      <th>star_rating</th>\n",
       "      <th>theme_name</th>\n",
       "      <th>val_star_rating</th>\n",
       "      <th>country</th>\n",
       "    </tr>\n",
       "  </thead>\n",
       "  <tbody>\n",
       "    <tr>\n",
       "      <th>0</th>\n",
       "      <td>6-12</td>\n",
       "      <td>29.99</td>\n",
       "      <td>2.0</td>\n",
       "      <td>277.0</td>\n",
       "      <td>4.0</td>\n",
       "      <td>Catapult into action and take back the eggs fr...</td>\n",
       "      <td>75823.0</td>\n",
       "      <td>Use the staircase catapult to launch Red into ...</td>\n",
       "      <td>Average</td>\n",
       "      <td>Bird Island Egg Heist</td>\n",
       "      <td>4.5</td>\n",
       "      <td>Angry Birds™</td>\n",
       "      <td>4.0</td>\n",
       "      <td>US</td>\n",
       "    </tr>\n",
       "    <tr>\n",
       "      <th>1</th>\n",
       "      <td>6-12</td>\n",
       "      <td>19.99</td>\n",
       "      <td>2.0</td>\n",
       "      <td>168.0</td>\n",
       "      <td>4.0</td>\n",
       "      <td>Launch a flying attack and rescue the eggs fro...</td>\n",
       "      <td>75822.0</td>\n",
       "      <td>Pilot Pig has taken off from Bird Island with ...</td>\n",
       "      <td>Easy</td>\n",
       "      <td>Piggy Plane Attack</td>\n",
       "      <td>5.0</td>\n",
       "      <td>Angry Birds™</td>\n",
       "      <td>4.0</td>\n",
       "      <td>US</td>\n",
       "    </tr>\n",
       "    <tr>\n",
       "      <th>2</th>\n",
       "      <td>6-12</td>\n",
       "      <td>12.99</td>\n",
       "      <td>11.0</td>\n",
       "      <td>74.0</td>\n",
       "      <td>4.3</td>\n",
       "      <td>Chase the piggy with lightning-fast Chuck and ...</td>\n",
       "      <td>75821.0</td>\n",
       "      <td>Pitch speedy bird Chuck against the Piggy Car....</td>\n",
       "      <td>Easy</td>\n",
       "      <td>Piggy Car Escape</td>\n",
       "      <td>4.3</td>\n",
       "      <td>Angry Birds™</td>\n",
       "      <td>4.1</td>\n",
       "      <td>US</td>\n",
       "    </tr>\n",
       "    <tr>\n",
       "      <th>3</th>\n",
       "      <td>12+</td>\n",
       "      <td>99.99</td>\n",
       "      <td>23.0</td>\n",
       "      <td>1032.0</td>\n",
       "      <td>3.6</td>\n",
       "      <td>Explore the architecture of the United States ...</td>\n",
       "      <td>21030.0</td>\n",
       "      <td>Discover the architectural secrets of the icon...</td>\n",
       "      <td>Average</td>\n",
       "      <td>United States Capitol Building</td>\n",
       "      <td>4.6</td>\n",
       "      <td>Architecture</td>\n",
       "      <td>4.3</td>\n",
       "      <td>US</td>\n",
       "    </tr>\n",
       "    <tr>\n",
       "      <th>4</th>\n",
       "      <td>12+</td>\n",
       "      <td>79.99</td>\n",
       "      <td>14.0</td>\n",
       "      <td>744.0</td>\n",
       "      <td>3.2</td>\n",
       "      <td>Recreate the Solomon R. Guggenheim Museum® wit...</td>\n",
       "      <td>21035.0</td>\n",
       "      <td>Discover the architectural secrets of Frank Ll...</td>\n",
       "      <td>Challenging</td>\n",
       "      <td>Solomon R. Guggenheim Museum®</td>\n",
       "      <td>4.6</td>\n",
       "      <td>Architecture</td>\n",
       "      <td>4.1</td>\n",
       "      <td>US</td>\n",
       "    </tr>\n",
       "  </tbody>\n",
       "</table>\n",
       "</div>"
      ],
      "text/plain": [
       "   ages  list_price  num_reviews  piece_count  play_star_rating  \\\n",
       "0  6-12       29.99          2.0        277.0               4.0   \n",
       "1  6-12       19.99          2.0        168.0               4.0   \n",
       "2  6-12       12.99         11.0         74.0               4.3   \n",
       "3   12+       99.99         23.0       1032.0               3.6   \n",
       "4   12+       79.99         14.0        744.0               3.2   \n",
       "\n",
       "                                           prod_desc  prod_id  \\\n",
       "0  Catapult into action and take back the eggs fr...  75823.0   \n",
       "1  Launch a flying attack and rescue the eggs fro...  75822.0   \n",
       "2  Chase the piggy with lightning-fast Chuck and ...  75821.0   \n",
       "3  Explore the architecture of the United States ...  21030.0   \n",
       "4  Recreate the Solomon R. Guggenheim Museum® wit...  21035.0   \n",
       "\n",
       "                                      prod_long_desc review_difficulty  \\\n",
       "0  Use the staircase catapult to launch Red into ...           Average   \n",
       "1  Pilot Pig has taken off from Bird Island with ...              Easy   \n",
       "2  Pitch speedy bird Chuck against the Piggy Car....              Easy   \n",
       "3  Discover the architectural secrets of the icon...           Average   \n",
       "4  Discover the architectural secrets of Frank Ll...       Challenging   \n",
       "\n",
       "                         set_name  star_rating    theme_name  val_star_rating  \\\n",
       "0           Bird Island Egg Heist          4.5  Angry Birds™              4.0   \n",
       "1              Piggy Plane Attack          5.0  Angry Birds™              4.0   \n",
       "2                Piggy Car Escape          4.3  Angry Birds™              4.1   \n",
       "3  United States Capitol Building          4.6  Architecture              4.3   \n",
       "4   Solomon R. Guggenheim Museum®          4.6  Architecture              4.1   \n",
       "\n",
       "  country  \n",
       "0      US  \n",
       "1      US  \n",
       "2      US  \n",
       "3      US  \n",
       "4      US  "
      ]
     },
     "execution_count": 2,
     "metadata": {},
     "output_type": "execute_result"
    }
   ],
   "source": [
    "lego = pd.read_csv('Resources/lego_sets.csv')\n",
    "lego.head()\n"
   ]
  },
  {
   "cell_type": "markdown",
   "metadata": {},
   "source": [
    "## Identify if we have any missing Data and Clean up data Set "
   ]
  },
  {
   "cell_type": "code",
   "execution_count": 3,
   "metadata": {},
   "outputs": [
    {
     "data": {
      "text/plain": [
       "Index(['num_reviews', 'play_star_rating', 'prod_desc', 'review_difficulty',\n",
       "       'star_rating', 'theme_name', 'val_star_rating'],\n",
       "      dtype='object')"
      ]
     },
     "execution_count": 3,
     "metadata": {},
     "output_type": "execute_result"
    }
   ],
   "source": [
    "lego.columns[lego.isna().any()]"
   ]
  },
  {
   "cell_type": "code",
   "execution_count": 4,
   "metadata": {},
   "outputs": [],
   "source": [
    "# fill na values\n",
    "lego[\"num_reviews\"].fillna(0, inplace=True)\n",
    "lego[\"play_star_rating\"].fillna(round(lego[\"play_star_rating\"].mean(), 1), inplace=True)\n",
    "lego[\"review_difficulty\"].fillna(\"Average\", inplace=True)\n",
    "lego[\"star_rating\"].fillna(round(lego[\"star_rating\"].mean(), 1), inplace=True)\n",
    "lego[\"val_star_rating\"].fillna(round(lego[\"val_star_rating\"].mean(), 1), inplace=True)"
   ]
  },
  {
   "cell_type": "code",
   "execution_count": 5,
   "metadata": {},
   "outputs": [],
   "source": [
    "# replace text with numeric values\n",
    "lego[\"review_difficulty\"].unique()\n",
    "rvdif_dict = {0: \"Very Easy\", 1: \"Easy\", 2: \"Average\", 3: \"Challenging\", 4: \"Very Challenging\"}\n",
    "rvdif_num = [[num for num, name in rvdif_dict.items() if name==item] for item in lego[\"review_difficulty\"]]\n",
    "lego[\"review_difficulty_num\"] = [item for sublist in rvdif_num for item in sublist]"
   ]
  },
  {
   "cell_type": "code",
   "execution_count": 6,
   "metadata": {},
   "outputs": [
    {
     "data": {
      "text/html": [
       "<div>\n",
       "<style scoped>\n",
       "    .dataframe tbody tr th:only-of-type {\n",
       "        vertical-align: middle;\n",
       "    }\n",
       "\n",
       "    .dataframe tbody tr th {\n",
       "        vertical-align: top;\n",
       "    }\n",
       "\n",
       "    .dataframe thead th {\n",
       "        text-align: right;\n",
       "    }\n",
       "</style>\n",
       "<table border=\"1\" class=\"dataframe\">\n",
       "  <thead>\n",
       "    <tr style=\"text-align: right;\">\n",
       "      <th></th>\n",
       "      <th>ages</th>\n",
       "      <th>list_price</th>\n",
       "      <th>num_reviews</th>\n",
       "      <th>piece_count</th>\n",
       "      <th>play_star_rating</th>\n",
       "      <th>prod_desc</th>\n",
       "      <th>prod_id</th>\n",
       "      <th>prod_long_desc</th>\n",
       "      <th>review_difficulty</th>\n",
       "      <th>set_name</th>\n",
       "      <th>star_rating</th>\n",
       "      <th>theme_name</th>\n",
       "      <th>val_star_rating</th>\n",
       "      <th>country</th>\n",
       "      <th>review_difficulty_num</th>\n",
       "    </tr>\n",
       "  </thead>\n",
       "  <tbody>\n",
       "    <tr>\n",
       "      <th>0</th>\n",
       "      <td>6-12</td>\n",
       "      <td>29.99</td>\n",
       "      <td>2.0</td>\n",
       "      <td>277.0</td>\n",
       "      <td>4.0</td>\n",
       "      <td>Catapult into action and take back the eggs fr...</td>\n",
       "      <td>75823.0</td>\n",
       "      <td>Use the staircase catapult to launch Red into ...</td>\n",
       "      <td>Average</td>\n",
       "      <td>Bird Island Egg Heist</td>\n",
       "      <td>4.5</td>\n",
       "      <td>Angry Birds™</td>\n",
       "      <td>4.0</td>\n",
       "      <td>US</td>\n",
       "      <td>2</td>\n",
       "    </tr>\n",
       "    <tr>\n",
       "      <th>1</th>\n",
       "      <td>6-12</td>\n",
       "      <td>19.99</td>\n",
       "      <td>2.0</td>\n",
       "      <td>168.0</td>\n",
       "      <td>4.0</td>\n",
       "      <td>Launch a flying attack and rescue the eggs fro...</td>\n",
       "      <td>75822.0</td>\n",
       "      <td>Pilot Pig has taken off from Bird Island with ...</td>\n",
       "      <td>Easy</td>\n",
       "      <td>Piggy Plane Attack</td>\n",
       "      <td>5.0</td>\n",
       "      <td>Angry Birds™</td>\n",
       "      <td>4.0</td>\n",
       "      <td>US</td>\n",
       "      <td>1</td>\n",
       "    </tr>\n",
       "    <tr>\n",
       "      <th>2</th>\n",
       "      <td>6-12</td>\n",
       "      <td>12.99</td>\n",
       "      <td>11.0</td>\n",
       "      <td>74.0</td>\n",
       "      <td>4.3</td>\n",
       "      <td>Chase the piggy with lightning-fast Chuck and ...</td>\n",
       "      <td>75821.0</td>\n",
       "      <td>Pitch speedy bird Chuck against the Piggy Car....</td>\n",
       "      <td>Easy</td>\n",
       "      <td>Piggy Car Escape</td>\n",
       "      <td>4.3</td>\n",
       "      <td>Angry Birds™</td>\n",
       "      <td>4.1</td>\n",
       "      <td>US</td>\n",
       "      <td>1</td>\n",
       "    </tr>\n",
       "    <tr>\n",
       "      <th>3</th>\n",
       "      <td>12+</td>\n",
       "      <td>99.99</td>\n",
       "      <td>23.0</td>\n",
       "      <td>1032.0</td>\n",
       "      <td>3.6</td>\n",
       "      <td>Explore the architecture of the United States ...</td>\n",
       "      <td>21030.0</td>\n",
       "      <td>Discover the architectural secrets of the icon...</td>\n",
       "      <td>Average</td>\n",
       "      <td>United States Capitol Building</td>\n",
       "      <td>4.6</td>\n",
       "      <td>Architecture</td>\n",
       "      <td>4.3</td>\n",
       "      <td>US</td>\n",
       "      <td>2</td>\n",
       "    </tr>\n",
       "    <tr>\n",
       "      <th>4</th>\n",
       "      <td>12+</td>\n",
       "      <td>79.99</td>\n",
       "      <td>14.0</td>\n",
       "      <td>744.0</td>\n",
       "      <td>3.2</td>\n",
       "      <td>Recreate the Solomon R. Guggenheim Museum® wit...</td>\n",
       "      <td>21035.0</td>\n",
       "      <td>Discover the architectural secrets of Frank Ll...</td>\n",
       "      <td>Challenging</td>\n",
       "      <td>Solomon R. Guggenheim Museum®</td>\n",
       "      <td>4.6</td>\n",
       "      <td>Architecture</td>\n",
       "      <td>4.1</td>\n",
       "      <td>US</td>\n",
       "      <td>3</td>\n",
       "    </tr>\n",
       "  </tbody>\n",
       "</table>\n",
       "</div>"
      ],
      "text/plain": [
       "   ages  list_price  num_reviews  piece_count  play_star_rating  \\\n",
       "0  6-12       29.99          2.0        277.0               4.0   \n",
       "1  6-12       19.99          2.0        168.0               4.0   \n",
       "2  6-12       12.99         11.0         74.0               4.3   \n",
       "3   12+       99.99         23.0       1032.0               3.6   \n",
       "4   12+       79.99         14.0        744.0               3.2   \n",
       "\n",
       "                                           prod_desc  prod_id  \\\n",
       "0  Catapult into action and take back the eggs fr...  75823.0   \n",
       "1  Launch a flying attack and rescue the eggs fro...  75822.0   \n",
       "2  Chase the piggy with lightning-fast Chuck and ...  75821.0   \n",
       "3  Explore the architecture of the United States ...  21030.0   \n",
       "4  Recreate the Solomon R. Guggenheim Museum® wit...  21035.0   \n",
       "\n",
       "                                      prod_long_desc review_difficulty  \\\n",
       "0  Use the staircase catapult to launch Red into ...           Average   \n",
       "1  Pilot Pig has taken off from Bird Island with ...              Easy   \n",
       "2  Pitch speedy bird Chuck against the Piggy Car....              Easy   \n",
       "3  Discover the architectural secrets of the icon...           Average   \n",
       "4  Discover the architectural secrets of Frank Ll...       Challenging   \n",
       "\n",
       "                         set_name  star_rating    theme_name  val_star_rating  \\\n",
       "0           Bird Island Egg Heist          4.5  Angry Birds™              4.0   \n",
       "1              Piggy Plane Attack          5.0  Angry Birds™              4.0   \n",
       "2                Piggy Car Escape          4.3  Angry Birds™              4.1   \n",
       "3  United States Capitol Building          4.6  Architecture              4.3   \n",
       "4   Solomon R. Guggenheim Museum®          4.6  Architecture              4.1   \n",
       "\n",
       "  country  review_difficulty_num  \n",
       "0      US                      2  \n",
       "1      US                      1  \n",
       "2      US                      1  \n",
       "3      US                      2  \n",
       "4      US                      3  "
      ]
     },
     "execution_count": 6,
     "metadata": {},
     "output_type": "execute_result"
    }
   ],
   "source": [
    "lego.head()"
   ]
  },
  {
   "cell_type": "markdown",
   "metadata": {},
   "source": [
    "## Understand Correlation of Data Fields\n",
    "    We need to see the correlation of the data and assess if the data set meets the need for the final bootcamp project."
   ]
  },
  {
   "cell_type": "code",
   "execution_count": 7,
   "metadata": {},
   "outputs": [
    {
     "data": {
      "image/png": "[encoded data removed]",
      "text/plain": [
       "<Figure size 1800x1440 with 2 Axes>"
      ]
     },
     "metadata": {
      "needs_background": "light"
     },
     "output_type": "display_data"
    }
   ],
   "source": [
    "colnames = [\"ages\", \"list_price\", \"piece_count\", \"star_rating\", \"val_star_rating\",\"review_difficulty_num\"]\n",
    "corr = lego[colnames].corr()\n",
    "corr=lego.corr()\n",
    "# plot correlation matrix\n",
    "fig = plt.figure(figsize=(25,20))\n",
    "ax = fig.add_subplot(111)\n",
    "cax = ax.matshow(corr, vmin=-1, vmax=1)\n",
    "fig.colorbar(cax)\n",
    "ticks = np.arange(0,6,1)\n",
    "ax.set_xticks(ticks)\n",
    "ax.set_yticks(ticks)\n",
    "ax.set_xticklabels(colnames)\n",
    "ax.set_yticklabels(colnames)\n",
    "plt.show()"
   ]
  },
  {
   "cell_type": "markdown",
   "metadata": {},
   "source": [
    "## Do correlations create a linear relationship between fields?"
   ]
  },
  {
   "cell_type": "code",
   "execution_count": 8,
   "metadata": {},
   "outputs": [
    {
     "name": "stdout",
     "output_type": "stream",
     "text": [
      "Shape: (12261, 1) (12261, 1)\n"
     ]
    }
   ],
   "source": [
    "xx = lego[[\"val_star_rating\"]]\n",
    "yy = lego[\"list_price\"].values.reshape(-1,1)\n",
    "print(\"Shape:\", xx.shape, yy.shape)"
   ]
  },
  {
   "cell_type": "code",
   "execution_count": 9,
   "metadata": {},
   "outputs": [
    {
     "data": {
      "text/plain": [
       "<matplotlib.collections.PathCollection at 0x1187ca160>"
      ]
     },
     "execution_count": 9,
     "metadata": {},
     "output_type": "execute_result"
    },
    {
     "data": {
      "image/png": "[encoded data removed]",
      "text/plain": [
       "<Figure size 432x288 with 1 Axes>"
      ]
     },
     "metadata": {
      "needs_background": "light"
     },
     "output_type": "display_data"
    }
   ],
   "source": [
    "plt.scatter(xx,yy)"
   ]
  },
  {
   "cell_type": "code",
   "execution_count": 10,
   "metadata": {},
   "outputs": [
    {
     "name": "stdout",
     "output_type": "stream",
     "text": [
      "Shape: (12261, 1) (12261, 1)\n"
     ]
    }
   ],
   "source": [
    "x = lego[[\"piece_count\"]]\n",
    "y = lego[\"list_price\"].values.reshape(-1,1)\n",
    "print(\"Shape:\", x.shape, y.shape)"
   ]
  },
  {
   "cell_type": "code",
   "execution_count": 11,
   "metadata": {},
   "outputs": [
    {
     "data": {
      "text/plain": [
       "<matplotlib.collections.PathCollection at 0xa1bad3470>"
      ]
     },
     "execution_count": 11,
     "metadata": {},
     "output_type": "execute_result"
    },
    {
     "data": {
      "image/png": "[encoded data removed]",
      "text/plain": [
       "<Figure size 432x288 with 1 Axes>"
      ]
     },
     "metadata": {
      "needs_background": "light"
     },
     "output_type": "display_data"
    }
   ],
   "source": [
    "plt.scatter(x,y)"
   ]
  },
  {
   "cell_type": "markdown",
   "metadata": {},
   "source": [
    "## Analysis to confirm that linear regression is a good fit with 1 on 1 metrics"
   ]
  },
  {
   "cell_type": "code",
   "execution_count": 12,
   "metadata": {},
   "outputs": [],
   "source": [
    "from sklearn.linear_model import LinearRegression \n",
    "\n",
    "model = LinearRegression()"
   ]
  },
  {
   "cell_type": "code",
   "execution_count": 13,
   "metadata": {},
   "outputs": [
    {
     "data": {
      "text/plain": [
       "LinearRegression(copy_X=True, fit_intercept=True, n_jobs=None,\n",
       "         normalize=False)"
      ]
     },
     "execution_count": 13,
     "metadata": {},
     "output_type": "execute_result"
    }
   ],
   "source": [
    "model.fit(x,y)"
   ]
  },
  {
   "cell_type": "code",
   "execution_count": 14,
   "metadata": {},
   "outputs": [
    {
     "name": "stdout",
     "output_type": "stream",
     "text": [
      "Weight coefficients:  [[0.09691346]]\n",
      "y-axis intercept:  [17.32432525]\n"
     ]
    }
   ],
   "source": [
    "print('Weight coefficients: ', model.coef_)\n",
    "print('y-axis intercept: ', model.intercept_)"
   ]
  },
  {
   "cell_type": "code",
   "execution_count": 15,
   "metadata": {},
   "outputs": [
    {
     "name": "stdout",
     "output_type": "stream",
     "text": [
      "Min x Value: [[1.]]\n",
      "Min x Value: [[7541.]]\n"
     ]
    }
   ],
   "source": [
    "x_min = np.array ([x.min()])\n",
    "x_max=np.array ([x.max()])\n",
    "print(f\"Min x Value: {x_min}\")\n",
    "print(f\"Min x Value: {x_max}\")\n"
   ]
  },
  {
   "cell_type": "code",
   "execution_count": 16,
   "metadata": {},
   "outputs": [
    {
     "data": {
      "text/plain": [
       "array([[17.4212387]])"
      ]
     },
     "execution_count": 16,
     "metadata": {},
     "output_type": "execute_result"
    }
   ],
   "source": [
    "#Calculate the y_min and y_max using predictive tech\n",
    "\n",
    "y_min = model.predict(x_min)\n",
    "y_max = model.predict(x_max)\n",
    "y_min"
   ]
  },
  {
   "cell_type": "code",
   "execution_count": 17,
   "metadata": {},
   "outputs": [
    {
     "data": {
      "text/plain": [
       "[<matplotlib.lines.Line2D at 0xa1fed52e8>]"
      ]
     },
     "execution_count": 17,
     "metadata": {},
     "output_type": "execute_result"
    },
    {
     "data": {
      "image/png": "[encoded data removed]",
      "text/plain": [
       "<Figure size 432x288 with 1 Axes>"
      ]
     },
     "metadata": {
      "needs_background": "light"
     },
     "output_type": "display_data"
    }
   ],
   "source": [
    "plt.scatter(x,y, c='blue')\n",
    "plt.plot([x_min[0], x_max[0]],[y_min[0], y_max[0]], c='red')"
   ]
  },
  {
   "cell_type": "markdown",
   "metadata": {},
   "source": [
    "## Quantifying Check of 1 v 1 Metrics "
   ]
  },
  {
   "cell_type": "code",
   "execution_count": 18,
   "metadata": {},
   "outputs": [],
   "source": [
    "# Import dependencies\n",
    "from sklearn.datasets import make_regression\n",
    "from sklearn.linear_model import LinearRegression"
   ]
  },
  {
   "cell_type": "code",
   "execution_count": 19,
   "metadata": {},
   "outputs": [
    {
     "name": "stdout",
     "output_type": "stream",
     "text": [
      "Mean Squared Error (MSE): 2062.0015980204475\n",
      "R-squared (R2 ): 0.7562562125135581\n"
     ]
    }
   ],
   "source": [
    "from sklearn.metrics import mean_squared_error, r2_score\n",
    "\n",
    "# Use our model to predict a value\n",
    "predicted = model.predict(x)\n",
    "\n",
    "# Score the prediction with mse and r2\n",
    "mse = mean_squared_error(y, predicted)\n",
    "r2 = r2_score(y, predicted)\n",
    "\n",
    "print(f\"Mean Squared Error (MSE): {mse}\")\n",
    "print(f\"R-squared (R2 ): {r2}\")"
   ]
  },
  {
   "cell_type": "markdown",
   "metadata": {},
   "source": [
    "## Build a Real Model using all Parameters"
   ]
  },
  {
   "cell_type": "code",
   "execution_count": 20,
   "metadata": {},
   "outputs": [],
   "source": [
    "from sklearn.model_selection import train_test_split\n",
    "X, Y = lego[[\"piece_count\", \"star_rating\", \"val_star_rating\", \"review_difficulty_num\"]], lego[\"list_price\"]\n",
    "x_train, x_test, y_train, y_test = train_test_split(X, Y, test_size=0.2, random_state=22)"
   ]
  },
  {
   "cell_type": "code",
   "execution_count": 21,
   "metadata": {},
   "outputs": [
    {
     "data": {
      "text/plain": [
       "LinearRegression(copy_X=True, fit_intercept=True, n_jobs=None,\n",
       "         normalize=False)"
      ]
     },
     "execution_count": 21,
     "metadata": {},
     "output_type": "execute_result"
    }
   ],
   "source": [
    "model.fit(x_train, y_train)"
   ]
  },
  {
   "cell_type": "code",
   "execution_count": 22,
   "metadata": {},
   "outputs": [
    {
     "data": {
      "text/plain": [
       "0.8077617983891371"
      ]
     },
     "execution_count": 22,
     "metadata": {},
     "output_type": "execute_result"
    }
   ],
   "source": [
    "model.score(x_test, y_test)"
   ]
  },
  {
   "cell_type": "code",
   "execution_count": 23,
   "metadata": {},
   "outputs": [],
   "source": [
    "preds = model.predict(x_test)\n",
    "preds = pd.DataFrame(preds)"
   ]
  },
  {
   "cell_type": "code",
   "execution_count": 24,
   "metadata": {},
   "outputs": [],
   "source": [
    "lego['Preds'] = preds"
   ]
  },
  {
   "cell_type": "code",
   "execution_count": 25,
   "metadata": {},
   "outputs": [
    {
     "data": {
      "text/html": [
       "<div>\n",
       "<style scoped>\n",
       "    .dataframe tbody tr th:only-of-type {\n",
       "        vertical-align: middle;\n",
       "    }\n",
       "\n",
       "    .dataframe tbody tr th {\n",
       "        vertical-align: top;\n",
       "    }\n",
       "\n",
       "    .dataframe thead th {\n",
       "        text-align: right;\n",
       "    }\n",
       "</style>\n",
       "<table border=\"1\" class=\"dataframe\">\n",
       "  <thead>\n",
       "    <tr style=\"text-align: right;\">\n",
       "      <th></th>\n",
       "      <th>ages</th>\n",
       "      <th>list_price</th>\n",
       "      <th>num_reviews</th>\n",
       "      <th>piece_count</th>\n",
       "      <th>play_star_rating</th>\n",
       "      <th>prod_desc</th>\n",
       "      <th>prod_id</th>\n",
       "      <th>prod_long_desc</th>\n",
       "      <th>review_difficulty</th>\n",
       "      <th>set_name</th>\n",
       "      <th>star_rating</th>\n",
       "      <th>theme_name</th>\n",
       "      <th>val_star_rating</th>\n",
       "      <th>country</th>\n",
       "      <th>review_difficulty_num</th>\n",
       "      <th>Preds</th>\n",
       "    </tr>\n",
       "  </thead>\n",
       "  <tbody>\n",
       "    <tr>\n",
       "      <th>0</th>\n",
       "      <td>6-12</td>\n",
       "      <td>29.99</td>\n",
       "      <td>2.0</td>\n",
       "      <td>277.0</td>\n",
       "      <td>4.0</td>\n",
       "      <td>Catapult into action and take back the eggs fr...</td>\n",
       "      <td>75823.0</td>\n",
       "      <td>Use the staircase catapult to launch Red into ...</td>\n",
       "      <td>Average</td>\n",
       "      <td>Bird Island Egg Heist</td>\n",
       "      <td>4.5</td>\n",
       "      <td>Angry Birds™</td>\n",
       "      <td>4.0</td>\n",
       "      <td>US</td>\n",
       "      <td>2</td>\n",
       "      <td>148.987595</td>\n",
       "    </tr>\n",
       "    <tr>\n",
       "      <th>1</th>\n",
       "      <td>6-12</td>\n",
       "      <td>19.99</td>\n",
       "      <td>2.0</td>\n",
       "      <td>168.0</td>\n",
       "      <td>4.0</td>\n",
       "      <td>Launch a flying attack and rescue the eggs fro...</td>\n",
       "      <td>75822.0</td>\n",
       "      <td>Pilot Pig has taken off from Bird Island with ...</td>\n",
       "      <td>Easy</td>\n",
       "      <td>Piggy Plane Attack</td>\n",
       "      <td>5.0</td>\n",
       "      <td>Angry Birds™</td>\n",
       "      <td>4.0</td>\n",
       "      <td>US</td>\n",
       "      <td>1</td>\n",
       "      <td>26.443496</td>\n",
       "    </tr>\n",
       "    <tr>\n",
       "      <th>2</th>\n",
       "      <td>6-12</td>\n",
       "      <td>12.99</td>\n",
       "      <td>11.0</td>\n",
       "      <td>74.0</td>\n",
       "      <td>4.3</td>\n",
       "      <td>Chase the piggy with lightning-fast Chuck and ...</td>\n",
       "      <td>75821.0</td>\n",
       "      <td>Pitch speedy bird Chuck against the Piggy Car....</td>\n",
       "      <td>Easy</td>\n",
       "      <td>Piggy Car Escape</td>\n",
       "      <td>4.3</td>\n",
       "      <td>Angry Birds™</td>\n",
       "      <td>4.1</td>\n",
       "      <td>US</td>\n",
       "      <td>1</td>\n",
       "      <td>32.140271</td>\n",
       "    </tr>\n",
       "    <tr>\n",
       "      <th>3</th>\n",
       "      <td>12+</td>\n",
       "      <td>99.99</td>\n",
       "      <td>23.0</td>\n",
       "      <td>1032.0</td>\n",
       "      <td>3.6</td>\n",
       "      <td>Explore the architecture of the United States ...</td>\n",
       "      <td>21030.0</td>\n",
       "      <td>Discover the architectural secrets of the icon...</td>\n",
       "      <td>Average</td>\n",
       "      <td>United States Capitol Building</td>\n",
       "      <td>4.6</td>\n",
       "      <td>Architecture</td>\n",
       "      <td>4.3</td>\n",
       "      <td>US</td>\n",
       "      <td>2</td>\n",
       "      <td>41.190586</td>\n",
       "    </tr>\n",
       "    <tr>\n",
       "      <th>4</th>\n",
       "      <td>12+</td>\n",
       "      <td>79.99</td>\n",
       "      <td>14.0</td>\n",
       "      <td>744.0</td>\n",
       "      <td>3.2</td>\n",
       "      <td>Recreate the Solomon R. Guggenheim Museum® wit...</td>\n",
       "      <td>21035.0</td>\n",
       "      <td>Discover the architectural secrets of Frank Ll...</td>\n",
       "      <td>Challenging</td>\n",
       "      <td>Solomon R. Guggenheim Museum®</td>\n",
       "      <td>4.6</td>\n",
       "      <td>Architecture</td>\n",
       "      <td>4.1</td>\n",
       "      <td>US</td>\n",
       "      <td>3</td>\n",
       "      <td>119.083085</td>\n",
       "    </tr>\n",
       "    <tr>\n",
       "      <th>5</th>\n",
       "      <td>12+</td>\n",
       "      <td>59.99</td>\n",
       "      <td>7.0</td>\n",
       "      <td>597.0</td>\n",
       "      <td>3.7</td>\n",
       "      <td>Celebrate Shanghai with this LEGO® Architectur...</td>\n",
       "      <td>21039.0</td>\n",
       "      <td>Recreate Shanghai in China's blend of historic...</td>\n",
       "      <td>Average</td>\n",
       "      <td>Shanghai</td>\n",
       "      <td>4.9</td>\n",
       "      <td>Architecture</td>\n",
       "      <td>4.4</td>\n",
       "      <td>US</td>\n",
       "      <td>2</td>\n",
       "      <td>42.834471</td>\n",
       "    </tr>\n",
       "    <tr>\n",
       "      <th>6</th>\n",
       "      <td>12+</td>\n",
       "      <td>59.99</td>\n",
       "      <td>37.0</td>\n",
       "      <td>598.0</td>\n",
       "      <td>3.7</td>\n",
       "      <td>Celebrate New York City with this LEGO® Archit...</td>\n",
       "      <td>21028.0</td>\n",
       "      <td>Celebrate the architectural diversity of New Y...</td>\n",
       "      <td>Average</td>\n",
       "      <td>New York City</td>\n",
       "      <td>4.2</td>\n",
       "      <td>Architecture</td>\n",
       "      <td>4.1</td>\n",
       "      <td>US</td>\n",
       "      <td>2</td>\n",
       "      <td>86.919951</td>\n",
       "    </tr>\n",
       "    <tr>\n",
       "      <th>7</th>\n",
       "      <td>12+</td>\n",
       "      <td>49.99</td>\n",
       "      <td>24.0</td>\n",
       "      <td>780.0</td>\n",
       "      <td>4.4</td>\n",
       "      <td>Recreate Buckingham Palace with LEGO® Architec...</td>\n",
       "      <td>21029.0</td>\n",
       "      <td>Build a LEGO® brick model of London's official...</td>\n",
       "      <td>Average</td>\n",
       "      <td>Buckingham Palace</td>\n",
       "      <td>4.7</td>\n",
       "      <td>Architecture</td>\n",
       "      <td>4.3</td>\n",
       "      <td>US</td>\n",
       "      <td>2</td>\n",
       "      <td>62.221320</td>\n",
       "    </tr>\n",
       "    <tr>\n",
       "      <th>8</th>\n",
       "      <td>12+</td>\n",
       "      <td>39.99</td>\n",
       "      <td>23.0</td>\n",
       "      <td>468.0</td>\n",
       "      <td>3.6</td>\n",
       "      <td>Celebrate London with this LEGO® Architecture ...</td>\n",
       "      <td>21034.0</td>\n",
       "      <td>Celebrate the architectural diversity of Londo...</td>\n",
       "      <td>Average</td>\n",
       "      <td>London</td>\n",
       "      <td>4.7</td>\n",
       "      <td>Architecture</td>\n",
       "      <td>4.1</td>\n",
       "      <td>US</td>\n",
       "      <td>2</td>\n",
       "      <td>20.666699</td>\n",
       "    </tr>\n",
       "    <tr>\n",
       "      <th>9</th>\n",
       "      <td>12+</td>\n",
       "      <td>39.99</td>\n",
       "      <td>11.0</td>\n",
       "      <td>444.0</td>\n",
       "      <td>3.6</td>\n",
       "      <td>Celebrate Chicago with this LEGO® Architecture...</td>\n",
       "      <td>21033.0</td>\n",
       "      <td>Recreate Chicago’s blend of historical and mod...</td>\n",
       "      <td>Average</td>\n",
       "      <td>Chicago</td>\n",
       "      <td>4.8</td>\n",
       "      <td>Architecture</td>\n",
       "      <td>4.5</td>\n",
       "      <td>US</td>\n",
       "      <td>2</td>\n",
       "      <td>26.443496</td>\n",
       "    </tr>\n",
       "    <tr>\n",
       "      <th>10</th>\n",
       "      <td>12+</td>\n",
       "      <td>39.99</td>\n",
       "      <td>14.0</td>\n",
       "      <td>386.0</td>\n",
       "      <td>4.1</td>\n",
       "      <td>Experience the grandeur of the Arc de Triomphe!</td>\n",
       "      <td>21036.0</td>\n",
       "      <td>Capture the architectural elegance of one of t...</td>\n",
       "      <td>Average</td>\n",
       "      <td>Arc de Triomphe</td>\n",
       "      <td>4.4</td>\n",
       "      <td>Architecture</td>\n",
       "      <td>3.6</td>\n",
       "      <td>US</td>\n",
       "      <td>2</td>\n",
       "      <td>23.026872</td>\n",
       "    </tr>\n",
       "    <tr>\n",
       "      <th>11</th>\n",
       "      <td>12+</td>\n",
       "      <td>34.99</td>\n",
       "      <td>53.0</td>\n",
       "      <td>321.0</td>\n",
       "      <td>3.2</td>\n",
       "      <td>Build your own LEGO® interpretation of the ico...</td>\n",
       "      <td>21019.0</td>\n",
       "      <td>Presenting the LEGO® Architecture interpretati...</td>\n",
       "      <td>Average</td>\n",
       "      <td>The Eiffel Tower</td>\n",
       "      <td>4.6</td>\n",
       "      <td>Architecture</td>\n",
       "      <td>4.4</td>\n",
       "      <td>US</td>\n",
       "      <td>2</td>\n",
       "      <td>23.562353</td>\n",
       "    </tr>\n",
       "    <tr>\n",
       "      <th>12</th>\n",
       "      <td>12+</td>\n",
       "      <td>29.99</td>\n",
       "      <td>7.0</td>\n",
       "      <td>361.0</td>\n",
       "      <td>4.2</td>\n",
       "      <td>Celebrate Sydney with this LEGO® Architecture ...</td>\n",
       "      <td>21032.0</td>\n",
       "      <td>Capture the architectural essence and splendor...</td>\n",
       "      <td>Easy</td>\n",
       "      <td>Sydney</td>\n",
       "      <td>4.6</td>\n",
       "      <td>Architecture</td>\n",
       "      <td>4.2</td>\n",
       "      <td>US</td>\n",
       "      <td>1</td>\n",
       "      <td>68.831843</td>\n",
       "    </tr>\n",
       "    <tr>\n",
       "      <th>13</th>\n",
       "      <td>7-12</td>\n",
       "      <td>159.99</td>\n",
       "      <td>63.0</td>\n",
       "      <td>847.0</td>\n",
       "      <td>3.8</td>\n",
       "      <td>Bring your LEGO® creations to life!</td>\n",
       "      <td>17101.0</td>\n",
       "      <td>Take your LEGO® play to the next level with th...</td>\n",
       "      <td>Average</td>\n",
       "      <td>BOOST Creative Toolbox</td>\n",
       "      <td>3.4</td>\n",
       "      <td>BOOST</td>\n",
       "      <td>3.5</td>\n",
       "      <td>US</td>\n",
       "      <td>2</td>\n",
       "      <td>48.960481</td>\n",
       "    </tr>\n",
       "    <tr>\n",
       "      <th>14</th>\n",
       "      <td>10+</td>\n",
       "      <td>29.99</td>\n",
       "      <td>13.0</td>\n",
       "      <td>708.0</td>\n",
       "      <td>4.7</td>\n",
       "      <td>Build a LEGO® BrickHeadz version of yourself!</td>\n",
       "      <td>41597.0</td>\n",
       "      <td>Fuel your creativity by making a LEGO® BrickHe...</td>\n",
       "      <td>Average</td>\n",
       "      <td>Go Brick Me</td>\n",
       "      <td>4.8</td>\n",
       "      <td>BrickHeadz</td>\n",
       "      <td>4.8</td>\n",
       "      <td>US</td>\n",
       "      <td>2</td>\n",
       "      <td>118.815899</td>\n",
       "    </tr>\n",
       "    <tr>\n",
       "      <th>15</th>\n",
       "      <td>10+</td>\n",
       "      <td>19.99</td>\n",
       "      <td>1.0</td>\n",
       "      <td>234.0</td>\n",
       "      <td>3.0</td>\n",
       "      <td>Train a raptor with LEGO® BrickHeadz™ Owen and...</td>\n",
       "      <td>41614.0</td>\n",
       "      <td>These LEGO® BrickHeadz™ 41614 Owen &amp; Blue cons...</td>\n",
       "      <td>Easy</td>\n",
       "      <td>Owen &amp; Blue</td>\n",
       "      <td>5.0</td>\n",
       "      <td>BrickHeadz</td>\n",
       "      <td>5.0</td>\n",
       "      <td>US</td>\n",
       "      <td>1</td>\n",
       "      <td>284.764225</td>\n",
       "    </tr>\n",
       "    <tr>\n",
       "      <th>16</th>\n",
       "      <td>10+</td>\n",
       "      <td>19.99</td>\n",
       "      <td>1.0</td>\n",
       "      <td>160.0</td>\n",
       "      <td>5.0</td>\n",
       "      <td>Join Mr. Incredible and Frozone for LEGO® Bric...</td>\n",
       "      <td>41613.0</td>\n",
       "      <td>These LEGO® BrickHeadz™ 41613 Mr. Incredible &amp;...</td>\n",
       "      <td>Very Easy</td>\n",
       "      <td>Mr. Incredible &amp; Frozone</td>\n",
       "      <td>5.0</td>\n",
       "      <td>BrickHeadz</td>\n",
       "      <td>5.0</td>\n",
       "      <td>US</td>\n",
       "      <td>0</td>\n",
       "      <td>25.871322</td>\n",
       "    </tr>\n",
       "    <tr>\n",
       "      <th>17</th>\n",
       "      <td>10+</td>\n",
       "      <td>9.99</td>\n",
       "      <td>1.0</td>\n",
       "      <td>149.0</td>\n",
       "      <td>2.0</td>\n",
       "      <td>Growl like a Wookiee with a LEGO® BrickHeadz™ ...</td>\n",
       "      <td>41609.0</td>\n",
       "      <td>This LEGO® BrickHeadz™ 41609 Chewbacca is fun ...</td>\n",
       "      <td>Very Easy</td>\n",
       "      <td>Chewbacca™</td>\n",
       "      <td>3.0</td>\n",
       "      <td>BrickHeadz</td>\n",
       "      <td>4.0</td>\n",
       "      <td>US</td>\n",
       "      <td>0</td>\n",
       "      <td>11.569796</td>\n",
       "    </tr>\n",
       "    <tr>\n",
       "      <th>18</th>\n",
       "      <td>10+</td>\n",
       "      <td>9.99</td>\n",
       "      <td>1.0</td>\n",
       "      <td>141.0</td>\n",
       "      <td>2.0</td>\n",
       "      <td>Be a rogue with a LEGO® BrickHeadz™ constructi...</td>\n",
       "      <td>41608.0</td>\n",
       "      <td>This LEGO® BrickHeadz™ 41608 Han Solo is fun t...</td>\n",
       "      <td>Very Easy</td>\n",
       "      <td>Han Solo™</td>\n",
       "      <td>4.0</td>\n",
       "      <td>BrickHeadz</td>\n",
       "      <td>4.0</td>\n",
       "      <td>US</td>\n",
       "      <td>0</td>\n",
       "      <td>93.270781</td>\n",
       "    </tr>\n",
       "    <tr>\n",
       "      <th>19</th>\n",
       "      <td>10+</td>\n",
       "      <td>9.99</td>\n",
       "      <td>3.0</td>\n",
       "      <td>101.0</td>\n",
       "      <td>4.0</td>\n",
       "      <td>Save the universe with LEGO® BrickHeadz Iron M...</td>\n",
       "      <td>41604.0</td>\n",
       "      <td>This Iron Man MK50 LEGO® BrickHeadz constructi...</td>\n",
       "      <td>Average</td>\n",
       "      <td>Iron Man MK50</td>\n",
       "      <td>4.7</td>\n",
       "      <td>BrickHeadz</td>\n",
       "      <td>4.5</td>\n",
       "      <td>US</td>\n",
       "      <td>2</td>\n",
       "      <td>40.732827</td>\n",
       "    </tr>\n",
       "  </tbody>\n",
       "</table>\n",
       "</div>"
      ],
      "text/plain": [
       "    ages  list_price  num_reviews  piece_count  play_star_rating  \\\n",
       "0   6-12       29.99          2.0        277.0               4.0   \n",
       "1   6-12       19.99          2.0        168.0               4.0   \n",
       "2   6-12       12.99         11.0         74.0               4.3   \n",
       "3    12+       99.99         23.0       1032.0               3.6   \n",
       "4    12+       79.99         14.0        744.0               3.2   \n",
       "5    12+       59.99          7.0        597.0               3.7   \n",
       "6    12+       59.99         37.0        598.0               3.7   \n",
       "7    12+       49.99         24.0        780.0               4.4   \n",
       "8    12+       39.99         23.0        468.0               3.6   \n",
       "9    12+       39.99         11.0        444.0               3.6   \n",
       "10   12+       39.99         14.0        386.0               4.1   \n",
       "11   12+       34.99         53.0        321.0               3.2   \n",
       "12   12+       29.99          7.0        361.0               4.2   \n",
       "13  7-12      159.99         63.0        847.0               3.8   \n",
       "14   10+       29.99         13.0        708.0               4.7   \n",
       "15   10+       19.99          1.0        234.0               3.0   \n",
       "16   10+       19.99          1.0        160.0               5.0   \n",
       "17   10+        9.99          1.0        149.0               2.0   \n",
       "18   10+        9.99          1.0        141.0               2.0   \n",
       "19   10+        9.99          3.0        101.0               4.0   \n",
       "\n",
       "                                            prod_desc  prod_id  \\\n",
       "0   Catapult into action and take back the eggs fr...  75823.0   \n",
       "1   Launch a flying attack and rescue the eggs fro...  75822.0   \n",
       "2   Chase the piggy with lightning-fast Chuck and ...  75821.0   \n",
       "3   Explore the architecture of the United States ...  21030.0   \n",
       "4   Recreate the Solomon R. Guggenheim Museum® wit...  21035.0   \n",
       "5   Celebrate Shanghai with this LEGO® Architectur...  21039.0   \n",
       "6   Celebrate New York City with this LEGO® Archit...  21028.0   \n",
       "7   Recreate Buckingham Palace with LEGO® Architec...  21029.0   \n",
       "8   Celebrate London with this LEGO® Architecture ...  21034.0   \n",
       "9   Celebrate Chicago with this LEGO® Architecture...  21033.0   \n",
       "10    Experience the grandeur of the Arc de Triomphe!  21036.0   \n",
       "11  Build your own LEGO® interpretation of the ico...  21019.0   \n",
       "12  Celebrate Sydney with this LEGO® Architecture ...  21032.0   \n",
       "13                Bring your LEGO® creations to life!  17101.0   \n",
       "14      Build a LEGO® BrickHeadz version of yourself!  41597.0   \n",
       "15  Train a raptor with LEGO® BrickHeadz™ Owen and...  41614.0   \n",
       "16  Join Mr. Incredible and Frozone for LEGO® Bric...  41613.0   \n",
       "17  Growl like a Wookiee with a LEGO® BrickHeadz™ ...  41609.0   \n",
       "18  Be a rogue with a LEGO® BrickHeadz™ constructi...  41608.0   \n",
       "19  Save the universe with LEGO® BrickHeadz Iron M...  41604.0   \n",
       "\n",
       "                                       prod_long_desc review_difficulty  \\\n",
       "0   Use the staircase catapult to launch Red into ...           Average   \n",
       "1   Pilot Pig has taken off from Bird Island with ...              Easy   \n",
       "2   Pitch speedy bird Chuck against the Piggy Car....              Easy   \n",
       "3   Discover the architectural secrets of the icon...           Average   \n",
       "4   Discover the architectural secrets of Frank Ll...       Challenging   \n",
       "5   Recreate Shanghai in China's blend of historic...           Average   \n",
       "6   Celebrate the architectural diversity of New Y...           Average   \n",
       "7   Build a LEGO® brick model of London's official...           Average   \n",
       "8   Celebrate the architectural diversity of Londo...           Average   \n",
       "9   Recreate Chicago’s blend of historical and mod...           Average   \n",
       "10  Capture the architectural elegance of one of t...           Average   \n",
       "11  Presenting the LEGO® Architecture interpretati...           Average   \n",
       "12  Capture the architectural essence and splendor...              Easy   \n",
       "13  Take your LEGO® play to the next level with th...           Average   \n",
       "14  Fuel your creativity by making a LEGO® BrickHe...           Average   \n",
       "15  These LEGO® BrickHeadz™ 41614 Owen & Blue cons...              Easy   \n",
       "16  These LEGO® BrickHeadz™ 41613 Mr. Incredible &...         Very Easy   \n",
       "17  This LEGO® BrickHeadz™ 41609 Chewbacca is fun ...         Very Easy   \n",
       "18  This LEGO® BrickHeadz™ 41608 Han Solo is fun t...         Very Easy   \n",
       "19  This Iron Man MK50 LEGO® BrickHeadz constructi...           Average   \n",
       "\n",
       "                          set_name  star_rating    theme_name  \\\n",
       "0            Bird Island Egg Heist          4.5  Angry Birds™   \n",
       "1               Piggy Plane Attack          5.0  Angry Birds™   \n",
       "2                 Piggy Car Escape          4.3  Angry Birds™   \n",
       "3   United States Capitol Building          4.6  Architecture   \n",
       "4    Solomon R. Guggenheim Museum®          4.6  Architecture   \n",
       "5                         Shanghai          4.9  Architecture   \n",
       "6                    New York City          4.2  Architecture   \n",
       "7                Buckingham Palace          4.7  Architecture   \n",
       "8                           London          4.7  Architecture   \n",
       "9                          Chicago          4.8  Architecture   \n",
       "10                 Arc de Triomphe          4.4  Architecture   \n",
       "11                The Eiffel Tower          4.6  Architecture   \n",
       "12                          Sydney          4.6  Architecture   \n",
       "13          BOOST Creative Toolbox          3.4         BOOST   \n",
       "14                     Go Brick Me          4.8    BrickHeadz   \n",
       "15                     Owen & Blue          5.0    BrickHeadz   \n",
       "16        Mr. Incredible & Frozone          5.0    BrickHeadz   \n",
       "17                      Chewbacca™          3.0    BrickHeadz   \n",
       "18                       Han Solo™          4.0    BrickHeadz   \n",
       "19                   Iron Man MK50          4.7    BrickHeadz   \n",
       "\n",
       "    val_star_rating country  review_difficulty_num       Preds  \n",
       "0               4.0      US                      2  148.987595  \n",
       "1               4.0      US                      1   26.443496  \n",
       "2               4.1      US                      1   32.140271  \n",
       "3               4.3      US                      2   41.190586  \n",
       "4               4.1      US                      3  119.083085  \n",
       "5               4.4      US                      2   42.834471  \n",
       "6               4.1      US                      2   86.919951  \n",
       "7               4.3      US                      2   62.221320  \n",
       "8               4.1      US                      2   20.666699  \n",
       "9               4.5      US                      2   26.443496  \n",
       "10              3.6      US                      2   23.026872  \n",
       "11              4.4      US                      2   23.562353  \n",
       "12              4.2      US                      1   68.831843  \n",
       "13              3.5      US                      2   48.960481  \n",
       "14              4.8      US                      2  118.815899  \n",
       "15              5.0      US                      1  284.764225  \n",
       "16              5.0      US                      0   25.871322  \n",
       "17              4.0      US                      0   11.569796  \n",
       "18              4.0      US                      0   93.270781  \n",
       "19              4.5      US                      2   40.732827  "
      ]
     },
     "execution_count": 25,
     "metadata": {},
     "output_type": "execute_result"
    }
   ],
   "source": [
    "lego.head(20)"
   ]
  },
  {
   "cell_type": "markdown",
   "metadata": {},
   "source": [
    "## Forget Linear lets try XGBoost! "
   ]
  },
  {
   "cell_type": "code",
   "execution_count": 28,
   "metadata": {},
   "outputs": [
    {
     "ename": "ModuleNotFoundError",
     "evalue": "No module named 'xgboost'",
     "output_type": "error",
     "traceback": [
      "\u001b[0;31m---------------------------------------------------------------------------\u001b[0m",
      "\u001b[0;31mModuleNotFoundError\u001b[0m                       Traceback (most recent call last)",
      "\u001b[0;32m<ipython-input-28-5943d1bfe3f1>\u001b[0m in \u001b[0;36m<module>\u001b[0;34m\u001b[0m\n\u001b[0;32m----> 1\u001b[0;31m \u001b[0;32mimport\u001b[0m \u001b[0mxgboost\u001b[0m \u001b[0;32mas\u001b[0m \u001b[0mxgb\u001b[0m\u001b[0;34m\u001b[0m\u001b[0;34m\u001b[0m\u001b[0m\n\u001b[0m",
      "\u001b[0;31mModuleNotFoundError\u001b[0m: No module named 'xgboost'"
     ]
    }
   ],
   "source": [
    "import xgboost as xgb"
   ]
  },
  {
   "cell_type": "code",
   "execution_count": null,
   "metadata": {},
   "outputs": [],
   "source": [
    "xgb_model = xgb.XGBRegressor(colsample_bytree=0.4,\n",
    "                            gamma=0,\n",
    "                            learning_rate=0.1,\n",
    "                            max_depth=5,\n",
    "                            subsample=0.6,\n",
    "                            seed=22)"
   ]
  },
  {
   "cell_type": "code",
   "execution_count": null,
   "metadata": {},
   "outputs": [],
   "source": [
    "xgb_model.fit(x_train, y_train)"
   ]
  },
  {
   "cell_type": "code",
   "execution_count": null,
   "metadata": {},
   "outputs": [],
   "source": [
    "xgb_model.score(x_test, y_test)"
   ]
  },
  {
   "cell_type": "code",
   "execution_count": null,
   "metadata": {},
   "outputs": [],
   "source": [
    "xgb_preds = xgb_model.predict(x_test)"
   ]
  },
  {
   "cell_type": "code",
   "execution_count": null,
   "metadata": {},
   "outputs": [],
   "source": [
    "y_test[:5], xgb_preds[:5]"
   ]
  },
  {
   "cell_type": "code",
   "execution_count": null,
   "metadata": {},
   "outputs": [],
   "source": [
    "xgb.plot_importance(xgb_model)\n",
    "plt.show()"
   ]
  },
  {
   "cell_type": "code",
   "execution_count": null,
   "metadata": {
    "scrolled": false
   },
   "outputs": [],
   "source": [
    "lego_preds = x_test\n",
    "lego_preds[\"list_price\"] = y_test.values\n",
    "lego_preds[\"predicted_list_price\"] = xgb_preds\n",
    "lego_preds"
   ]
  },
  {
   "cell_type": "code",
   "execution_count": null,
   "metadata": {},
   "outputs": [],
   "source": []
  }
 ],
 "metadata": {
  "kernelspec": {
   "display_name": "Python 3",
   "language": "python",
   "name": "python3"
  },
  "language_info": {
   "codemirror_mode": {
    "name": "ipython",
    "version": 3
   },
   "file_extension": ".py",
   "mimetype": "text/x-python",
   "name": "python",
   "nbconvert_exporter": "python",
   "pygments_lexer": "ipython3",
   "version": "3.6.7"
  }
 },
 "nbformat": 4,
 "nbformat_minor": 2
}
